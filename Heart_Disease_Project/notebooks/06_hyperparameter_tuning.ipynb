{
  "nbformat": 4,
  "nbformat_minor": 0,
  "metadata": {
    "colab": {
      "provenance": []
    },
    "kernelspec": {
      "name": "python3",
      "display_name": "Python 3"
    },
    "language_info": {
      "name": "python"
    }
  },
  "cells": [
    {
      "cell_type": "code",
      "execution_count": 8,
      "metadata": {
        "id": "lv1OmGlFygDH"
      },
      "outputs": [],
      "source": [
        "#imports\n",
        "import pandas as pd\n",
        "from sklearn.model_selection import train_test_split, GridSearchCV, RandomizedSearchCV\n",
        "from sklearn.preprocessing import StandardScaler\n",
        "from sklearn.linear_model import LogisticRegression\n",
        "from sklearn.ensemble import RandomForestClassifier\n",
        "from sklearn.svm import SVC\n",
        "from sklearn.metrics import accuracy_score, precision_score, recall_score, f1_score, classification_report\n"
      ]
    },
    {
      "cell_type": "code",
      "source": [
        "#reading dataset\n",
        "df = pd.read_csv(\"selectedfeatures.csv\")   # Replace with your dataset\n",
        "X = df.drop(\"num\", axis=1)  # Features\n",
        "y = df[\"num\"]"
      ],
      "metadata": {
        "id": "V9CChBC6yyju"
      },
      "execution_count": 2,
      "outputs": []
    },
    {
      "cell_type": "code",
      "source": [
        "X_train, X_test, y_train, y_test = train_test_split(X, y, test_size=0.2, random_state=42, stratify=y)\n",
        "scaler = StandardScaler()\n",
        "X_trainScaled = scaler.fit_transform(X_train)\n",
        "X_testScaled = scaler.transform(X_test)\n"
      ],
      "metadata": {
        "id": "cW7YiR1SzUm1"
      },
      "execution_count": 9,
      "outputs": []
    },
    {
      "cell_type": "code",
      "source": [
        "baseline_models = {\n",
        "    \"Logistic Regression\": LogisticRegression(),\n",
        "    \"Random Forest\": RandomForestClassifier(random_state=42),\n",
        "    \"SVM\": SVC(probability=True, random_state=42)\n",
        "}\n",
        "\n",
        "baseline_metrics = {}\n",
        "\n",
        "for name, model in baseline_models.items():\n",
        "    if name in [\"Logistic Regression\", \"SVM\"]:\n",
        "        model.fit(X_trainScaled, y_train)\n",
        "        y_pred = model.predict(X_testScaled)\n",
        "    else:\n",
        "        model.fit(X_train, y_train)\n",
        "        y_pred = model.predict(X_test)\n",
        "\n",
        "    baseline_metrics[name] = {\n",
        "        \"Accuracy\": accuracy_score(y_test, y_pred),\n",
        "        \"Precision\": precision_score(y_test, y_pred, average=\"weighted\", zero_division=0),\n",
        "        \"Recall\": recall_score(y_test, y_pred, average=\"weighted\", zero_division=0),\n",
        "        \"F1-score\": f1_score(y_test, y_pred, average=\"weighted\", zero_division=0)\n",
        "    }\n"
      ],
      "metadata": {
        "id": "60ZtZZtdz5vR"
      },
      "execution_count": 10,
      "outputs": []
    },
    {
      "cell_type": "code",
      "source": [
        "print(\"=== Baseline Model Metrics ===\")\n",
        "for name, metric in baseline_metrics.items():\n",
        "    print(f\"\\n{name}:\")\n",
        "    for key, value in metric.items():\n",
        "        print(f\"{key}: {value:.4f}\")"
      ],
      "metadata": {
        "colab": {
          "base_uri": "https://localhost:8080/"
        },
        "id": "d8ZPtJdNz94p",
        "outputId": "d98d8617-1e67-49f2-c5dc-d94ecc4e0d6f"
      },
      "execution_count": 11,
      "outputs": [
        {
          "output_type": "stream",
          "name": "stdout",
          "text": [
            "=== Baseline Model Metrics ===\n",
            "\n",
            "Logistic Regression:\n",
            "Accuracy: 0.6066\n",
            "Precision: 0.4949\n",
            "Recall: 0.6066\n",
            "F1-score: 0.5370\n",
            "\n",
            "Random Forest:\n",
            "Accuracy: 0.4918\n",
            "Precision: 0.4889\n",
            "Recall: 0.4918\n",
            "F1-score: 0.4797\n",
            "\n",
            "SVM:\n",
            "Accuracy: 0.5574\n",
            "Precision: 0.4768\n",
            "Recall: 0.5574\n",
            "F1-score: 0.5066\n"
          ]
        }
      ]
    },
    {
      "cell_type": "markdown",
      "source": [
        "Defining Parameters"
      ],
      "metadata": {
        "id": "xkKb-RtAys1j"
      }
    },
    {
      "cell_type": "code",
      "source": [
        "#logistic regression\n",
        "lr_params = {\n",
        "    'C': [0.01, 0.1, 1, 10, 100],\n",
        "    'penalty': ['l2'],\n",
        "    'solver': ['lbfgs', 'saga'],\n",
        "    'max_iter': [100, 500, 1000]\n",
        "}"
      ],
      "metadata": {
        "id": "EyGs9CRYyq1x"
      },
      "execution_count": 12,
      "outputs": []
    },
    {
      "cell_type": "code",
      "source": [
        "#random forest\n",
        "rf_params = {\n",
        "    'n_estimators': [50, 100, 200],\n",
        "    'max_depth': [None, 5, 10, 20],\n",
        "    'min_samples_split': [2, 5, 10],\n",
        "    'min_samples_leaf': [1, 2, 4]\n",
        "}"
      ],
      "metadata": {
        "id": "o6xqBnYyy4tI"
      },
      "execution_count": 13,
      "outputs": []
    },
    {
      "cell_type": "code",
      "source": [
        "#svm\n",
        "svm_params = {\n",
        "    'C': [0.1, 1, 10, 100],\n",
        "    'kernel': ['linear', 'rbf', 'poly'],\n",
        "    'gamma': ['scale', 'auto']\n",
        "}"
      ],
      "metadata": {
        "id": "p1Q5niOTy_-z"
      },
      "execution_count": 14,
      "outputs": []
    },
    {
      "cell_type": "markdown",
      "source": [
        "Performing search"
      ],
      "metadata": {
        "id": "_PlzPqmnzGSU"
      }
    },
    {
      "cell_type": "code",
      "source": [
        "#gridsearch on LR\n",
        "grid_lr = GridSearchCV(\n",
        "    estimator=LogisticRegression(),\n",
        "    param_grid=lr_params,\n",
        "    cv=5,\n",
        "    scoring='accuracy',\n",
        "    n_jobs=-1\n",
        ")\n",
        "grid_lr.fit(X_trainScaled, y_train)\n",
        "best_lr = grid_lr.best_estimator_\n",
        "print(\"Best Logistic Regression:\", grid_lr.best_params_)"
      ],
      "metadata": {
        "colab": {
          "base_uri": "https://localhost:8080/"
        },
        "id": "cczmGt11zGCL",
        "outputId": "ead49683-2bc6-4d0e-81b4-74e62bd55124"
      },
      "execution_count": 15,
      "outputs": [
        {
          "output_type": "stream",
          "name": "stdout",
          "text": [
            "Best Logistic Regression: {'C': 1, 'max_iter': 100, 'penalty': 'l2', 'solver': 'saga'}\n"
          ]
        }
      ]
    },
    {
      "cell_type": "code",
      "source": [
        "#Randomized search on Random forest\n",
        "\n",
        "rand_rf = RandomizedSearchCV(RandomForestClassifier(random_state=42), rf_params, n_iter=20, cv=5, scoring='accuracy', n_jobs=-1, random_state=42)\n",
        "rand_rf.fit(X_train, y_train)\n",
        "best_rf = rand_rf.best_estimator_\n",
        "print(\"Best Random Forest:\", rand_rf.best_params_)\n"
      ],
      "metadata": {
        "colab": {
          "base_uri": "https://localhost:8080/"
        },
        "id": "fydiasdJ0u07",
        "outputId": "427fa1f4-32e5-4323-9677-e0d11a52a542"
      },
      "execution_count": 16,
      "outputs": [
        {
          "output_type": "stream",
          "name": "stdout",
          "text": [
            "Best Random Forest: {'n_estimators': 50, 'min_samples_split': 10, 'min_samples_leaf': 2, 'max_depth': 5}\n"
          ]
        }
      ]
    },
    {
      "cell_type": "code",
      "source": [
        "# SVM GridSearch\n",
        "\n",
        "grid_svm = GridSearchCV(SVC(probability=True), svm_params, cv=5, scoring='accuracy', n_jobs=-1)\n",
        "grid_svm.fit(X_trainScaled, y_train)\n",
        "best_svm = grid_svm.best_estimator_\n",
        "print(\"Best SVM:\", grid_svm.best_params_)\n"
      ],
      "metadata": {
        "colab": {
          "base_uri": "https://localhost:8080/"
        },
        "id": "xG09LhoF06S7",
        "outputId": "518cbfe3-c421-4f0f-892a-562134283b21"
      },
      "execution_count": 17,
      "outputs": [
        {
          "output_type": "stream",
          "name": "stdout",
          "text": [
            "Best SVM: {'C': 1, 'gamma': 'scale', 'kernel': 'rbf'}\n"
          ]
        }
      ]
    },
    {
      "cell_type": "markdown",
      "source": [
        "evaluatiing optimized models\n"
      ],
      "metadata": {
        "id": "qW_5pAez1IcC"
      }
    },
    {
      "cell_type": "code",
      "source": [
        "optimized_models = {\n",
        "    \"Logistic Regression\": best_lr,\n",
        "    \"Random Forest\": best_rf,\n",
        "    \"SVM\": best_svm\n",
        "}\n",
        "optimized_metrics = {}\n",
        "\n",
        "for name, model in optimized_models.items():\n",
        "    if name in [\"Logistic Regression\", \"SVM\"]:\n",
        "        y_pred = model.predict(X_testScaled)\n",
        "    else:\n",
        "        y_pred = model.predict(X_test)\n",
        "\n",
        "    optimized_metrics[name] = {\n",
        "        \"Accuracy\": accuracy_score(y_test, y_pred),\n",
        "        \"Precision\": precision_score(y_test, y_pred, average=\"weighted\", zero_division=0),\n",
        "        \"Recall\": recall_score(y_test, y_pred, average=\"weighted\", zero_division=0),\n",
        "        \"F1-score\": f1_score(y_test, y_pred, average=\"weighted\", zero_division=0)\n",
        "    }"
      ],
      "metadata": {
        "id": "5BCO8PIw1NRO"
      },
      "execution_count": 18,
      "outputs": []
    },
    {
      "cell_type": "code",
      "source": [
        "#printing\n",
        "print(\"\\n=== Optimized Model Metrics ===\")\n",
        "for name, metric in optimized_metrics.items():\n",
        "    print(f\"\\n{name}:\")\n",
        "    for key, value in metric.items():\n",
        "        print(f\"{key}: {value:.4f}\")"
      ],
      "metadata": {
        "colab": {
          "base_uri": "https://localhost:8080/"
        },
        "id": "kmktXRqM1UA2",
        "outputId": "34e5bd89-cb4d-4700-a53c-a2f5a5653d6b"
      },
      "execution_count": 19,
      "outputs": [
        {
          "output_type": "stream",
          "name": "stdout",
          "text": [
            "\n",
            "=== Optimized Model Metrics ===\n",
            "\n",
            "Logistic Regression:\n",
            "Accuracy: 0.6066\n",
            "Precision: 0.4949\n",
            "Recall: 0.6066\n",
            "F1-score: 0.5370\n",
            "\n",
            "Random Forest:\n",
            "Accuracy: 0.5574\n",
            "Precision: 0.4781\n",
            "Recall: 0.5574\n",
            "F1-score: 0.5102\n",
            "\n",
            "SVM:\n",
            "Accuracy: 0.5574\n",
            "Precision: 0.4768\n",
            "Recall: 0.5574\n",
            "F1-score: 0.5066\n"
          ]
        }
      ]
    }
  ]
}